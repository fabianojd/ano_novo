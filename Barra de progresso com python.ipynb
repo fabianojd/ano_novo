{
 "cells": [
  {
   "cell_type": "code",
   "execution_count": 11,
   "id": "9191f711",
   "metadata": {},
   "outputs": [
    {
     "name": "stdout",
     "output_type": "stream",
     "text": [
      "2023 finalizando\n"
     ]
    },
    {
     "data": {
      "application/vnd.jupyter.widget-view+json": {
       "model_id": "d93c4a38640f49f7830851b19384bbbf",
       "version_major": 2,
       "version_minor": 0
      },
      "text/plain": [
       "  0%|          | 0/2 [00:00<?, ?it/s]"
      ]
     },
     "metadata": {},
     "output_type": "display_data"
    },
    {
     "name": "stdout",
     "output_type": "stream",
     "text": [
      "2024 iniciado\n"
     ]
    }
   ],
   "source": [
    "print(\"2023 finalizando\")\n",
    "import time\n",
    "from tqdm.notebook import tqdm\n",
    "\n",
    "for i in tqdm(range(2)):   \n",
    "    # print(f'{i}/2')    \n",
    "    time.sleep(1)\n",
    "\n",
    "print(\"2024 iniciado\")"
   ]
  },
  {
   "cell_type": "code",
   "execution_count": null,
   "id": "3bfd5677",
   "metadata": {},
   "outputs": [],
   "source": []
  }
 ],
 "metadata": {
  "kernelspec": {
   "display_name": "Python 3 (ipykernel)",
   "language": "python",
   "name": "python3"
  },
  "language_info": {
   "codemirror_mode": {
    "name": "ipython",
    "version": 3
   },
   "file_extension": ".py",
   "mimetype": "text/x-python",
   "name": "python",
   "nbconvert_exporter": "python",
   "pygments_lexer": "ipython3",
   "version": "3.12.0"
  }
 },
 "nbformat": 4,
 "nbformat_minor": 5
}
