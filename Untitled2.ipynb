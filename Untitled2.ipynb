{
 "cells": [
  {
   "cell_type": "code",
   "execution_count": 2,
   "id": "7e88e042-6ca9-47f0-82ce-eb57d5ade6da",
   "metadata": {},
   "outputs": [
    {
     "name": "stdout",
     "output_type": "stream",
     "text": [
      "2023 finalizando\n"
     ]
    },
    {
     "data": {
      "application/vnd.jupyter.widget-view+json": {
       "model_id": "e888498c63f3488eb143e15560e1fff3",
       "version_major": 2,
       "version_minor": 0
      },
      "text/plain": [
       "  0%|          | 0/2 [00:00<?, ?it/s]"
      ]
     },
     "metadata": {},
     "output_type": "display_data"
    },
    {
     "name": "stdout",
     "output_type": "stream",
     "text": [
      "2024 iniciado\n"
     ]
    }
   ],
   "source": [
    "print(\"2023 finalizando\")\n",
    "import time\n",
    "from tqdm.notebook import tqdm\n",
    "\n",
    "for i in tqdm(range(2)):   \n",
    "    # print(f'{i}/2')    \n",
    "    time.sleep(1)\n",
    "\n",
    "print(\"2024 iniciado\")"
   ]
  },
  {
   "cell_type": "code",
   "execution_count": null,
   "id": "99e96840-3b1c-443f-8071-d57ebf1086ec",
   "metadata": {},
   "outputs": [],
   "source": []
  }
 ],
 "metadata": {
  "kernelspec": {
   "display_name": "Python 3 (ipykernel)",
   "language": "python",
   "name": "python3"
  },
  "language_info": {
   "codemirror_mode": {
    "name": "ipython",
    "version": 3
   },
   "file_extension": ".py",
   "mimetype": "text/x-python",
   "name": "python",
   "nbconvert_exporter": "python",
   "pygments_lexer": "ipython3",
   "version": "3.12.0"
  }
 },
 "nbformat": 4,
 "nbformat_minor": 5
}
